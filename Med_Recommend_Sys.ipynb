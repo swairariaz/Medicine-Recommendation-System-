{
 "cells": [
  {
   "cell_type": "code",
   "execution_count": null,
   "id": "4e4766bf",
   "metadata": {},
   "outputs": [],
   "source": [
    "import  pandas as pd\n",
    "import sklearn\n",
    "from sklearn.model_selection import train_test_split\n",
    "from sklearn.preprocessing import LabelEncoder\n",
    "from sklearn.datasets import make_classification\n",
    "from sklearn.model_selection import train_test_split\n",
    "from sklearn.svm import SVC\n",
    "from sklearn.ensemble import RandomForestClassifier, GradientBoostingClassifier\n",
    "from sklearn.neighbors import KNeighborsClassifier\n",
    "from sklearn.naive_bayes import MultinomialNB\n",
    "from sklearn.metrics import accuracy_score, confusion_matrix\n",
    "import numpy as np\n",
    "import joblib"
   ]
  },
  {
   "cell_type": "code",
   "execution_count": null,
   "id": "56ce4778",
   "metadata": {},
   "outputs": [],
   "source": [
    "#load all datasets\n",
    "dataset = pd.read_csv('datasets/Training.csv')\n",
    "sym_des = pd.read_csv(\"datasets/symtoms_df.csv\")\n",
    "precautions = pd.read_csv(\"datasets/precautions_df.csv\")\n",
    "workout = pd.read_csv(\"datasets/workout_df.csv\")\n",
    "description = pd.read_csv(\"datasets/description.csv\")\n",
    "medications = pd.read_csv('datasets/medications.csv')\n",
    "diets = pd.read_csv(\"datasets/diets.csv\")\n",
    "symptom_columns = dataset.columns[:-1]"
   ]
  },
  {
   "cell_type": "code",
   "execution_count": null,
   "id": "5f18d6d2",
   "metadata": {},
   "outputs": [],
   "source": [
    "dataset"
   ]
  },
  {
   "cell_type": "code",
   "execution_count": null,
   "id": "4cb2e972",
   "metadata": {},
   "outputs": [],
   "source": [
    "X = dataset.drop('prognosis', axis=1)\n",
    "y = dataset['prognosis']\n",
    "\n",
    "# ecoding prognonsis\n",
    "le = LabelEncoder()\n",
    "le.fit(y)\n",
    "Y = le.transform(y)\n",
    "    \n",
    "X_train, X_test, y_train, y_test = train_test_split(X, Y, test_size=0.3, random_state=20)"
   ]
  },
  {
   "cell_type": "code",
   "execution_count": null,
   "id": "5b9c4a9e",
   "metadata": {},
   "outputs": [],
   "source": [
    "\n",
    "# Train models\n",
    "\n",
    "#store models\n",
    "models = {\n",
    "    'SVC': SVC(kernel='linear'),\n",
    "    'RandomForest': RandomForestClassifier(n_estimators=100, random_state=42),\n",
    "    'GradientBoosting': GradientBoostingClassifier(n_estimators=100, random_state=42),\n",
    "    'KNeighbors': KNeighborsClassifier(n_neighbors=5),\n",
    "    'MultinomialNB': MultinomialNB()\n",
    "}\n",
    "\n",
    "# Loop through the models, train, test, and print results\n",
    "for model_name, model in models.items():\n",
    "    model.fit(X_train, y_train)\n",
    "    predictions = model.predict(X_test)\n",
    "\n",
    "    # accuracy\n",
    "    accuracy = accuracy_score(y_test, predictions)\n",
    "    print(f\"{model_name} Accuracy: {accuracy}\")\n",
    "\n",
    "    #confusion matrix\n",
    "    cm = confusion_matrix(y_test, predictions)\n",
    "    print(f\"{model_name} Confusion Matrix:\")\n",
    "    print(np.array2string(cm, separator=', '))\n",
    "\n",
    "    print(\"\\n\" + \"=\"*40 + \"\\n\")\n"
   ]
  },
  {
   "cell_type": "code",
   "execution_count": null,
   "id": "a74ad639",
   "metadata": {},
   "outputs": [],
   "source": [
    "# selecting svc\n",
    "svc = SVC(kernel='linear')\n",
    "svc.fit(X_train,y_train)\n",
    "ypred = svc.predict(X_test)\n",
    "accuracy_score(y_test,ypred)\n",
    "\n",
    "# save svc\n",
    "import pickle\n",
    "pickle.dump(svc,open('svc.pkl','wb'))\n",
    "\n",
    "# load model\n",
    "svc = pickle.load(open('svc.pkl','rb'))"
   ]
  },
  {
   "cell_type": "code",
   "execution_count": null,
   "id": "d69ae324",
   "metadata": {},
   "outputs": [],
   "source": [
    "# Encode target labels\n",
    "label_encoder = LabelEncoder()\n",
    "dataset[\"prognosis\"] = label_encoder.fit_transform(dataset[\"prognosis\"])\n",
    "\n",
    "# Save LabelEncoder\n",
    "joblib.dump(label_encoder, \"label_encoder.pkl\")\n",
    "\n",
    "print(\"LabelEncoder saved successfully!\")"
   ]
  },
  {
   "cell_type": "code",
   "execution_count": null,
   "id": "e8b5365a",
   "metadata": {},
   "outputs": [],
   "source": [
    "# Load the trained model\n",
    "model = joblib.load(\"svc.pkl\")  # Ensure the model is saved\n",
    "\n",
    "# Load the label encoder used during training\n",
    "label_encoder = joblib.load(\"label_encoder.pkl\")  # Ensure the encoder is saved\n"
   ]
  },
  {
   "cell_type": "code",
   "execution_count": null,
   "id": "8bf40f9d",
   "metadata": {},
   "outputs": [],
   "source": [
    "# test 1:\n",
    "print(\"predicted disease :\",svc.predict(X_test.iloc[0].values.reshape(1,-1)))\n",
    "print(\"Actual Disease :\", y_test[0])"
   ]
  },
  {
   "cell_type": "code",
   "execution_count": null,
   "id": "786bfd1a",
   "metadata": {},
   "outputs": [],
   "source": [
    "# test 2:\n",
    "print(\"predicted disease :\",svc.predict(X_test.iloc[100].values.reshape(1,-1)))\n",
    "print(\"Actual Disease :\", y_test[100])"
   ]
  },
  {
   "cell_type": "code",
   "execution_count": null,
   "id": "f15411ab",
   "metadata": {},
   "outputs": [],
   "source": [
    "def preprocess_symptoms(symptom_input):\n",
    "    \"\"\"\n",
    "    Converts user symptoms into a one-hot encoded format.\n",
    "    \"\"\"\n",
    "    # Convert input to lowercase and split by comma\n",
    "    symptoms = [s.strip().lower() for s in symptom_input.split(\",\")]\n",
    "\n",
    "    # Create a DataFrame with correct feature names\n",
    "    input_vector = pd.DataFrame(0, index=[0], columns=symptom_columns)\n",
    "\n",
    "    # Set '1' for the symptoms that are present\n",
    "    for symptom in symptoms:\n",
    "        if symptom in symptom_columns:\n",
    "            input_vector[symptom] = 1\n",
    "\n",
    "    return input_vector  # Returns DataFrame with correct feature names\n",
    "\n"
   ]
  },
  {
   "cell_type": "code",
   "execution_count": null,
   "id": "7c78c09f",
   "metadata": {},
   "outputs": [],
   "source": [
    "def predict_disease(symptom_input):\n",
    "    \"\"\"\n",
    "    Takes symptom input from user, processes it, and predicts disease.\n",
    "    \"\"\"\n",
    "    input_vector = preprocess_symptoms(symptom_input)\n",
    "\n",
    "    # Make prediction using trained model\n",
    "    predicted_class = model.predict(input_vector)[0]\n",
    "\n",
    "    # Decode the predicted label\n",
    "    disease = label_encoder.inverse_transform([predicted_class])[0]\n",
    "    \n",
    "    return disease\n"
   ]
  },
  {
   "cell_type": "code",
   "execution_count": null,
   "id": "3e3ad69d",
   "metadata": {},
   "outputs": [],
   "source": [
    "if 'Medication' in medications.columns:\n",
    "    meds = medications['Medication']\n",
    "else:\n",
    "    print(\"Error: 'Medication' column not found in medications.csv\")"
   ]
  },
  {
   "cell_type": "code",
   "execution_count": null,
   "id": "5e53dee8",
   "metadata": {},
   "outputs": [],
   "source": [
    "def get_disease_info(disease):\n",
    "    \"\"\"\n",
    "    Retrieves details about the predicted disease from datasets.\n",
    "    \"\"\"\n",
    "    # Fetch Description\n",
    "    description_row = description[description[\"Disease\"] == disease]\n",
    "    description_text = description_row[\"Description\"].values[0] if not description_row.empty else \"No description available.\"\n",
    "\n",
    "    # Fetch Precautions\n",
    "    precautions_row = precautions[precautions[\"Disease\"] == disease]\n",
    "    if not precautions_row.empty:\n",
    "        precautions_list = precautions_row.iloc[:, 1:].values.flatten()\n",
    "        precautions_text = [f\"{i+1} :  {precaution}\" for i, precaution in enumerate(precautions_list) if precaution]\n",
    "    else:\n",
    "        precautions_text = [\"No precautions available.\"]\n",
    "\n",
    "    # Fetch Medications\n",
    "    medications_row = medications[medications[\"Disease\"] == disease]\n",
    "    medications_text = medications_row[\"Medication\"].values[0] if not medications_row.empty else \"No medication data available.\"\n",
    "\n",
    "    # Fetch Workout Tips\n",
    "    workout_row = workout[workout[\"Disease\"] == disease]\n",
    "    if not workout_row.empty:\n",
    "        workout_list = workout_row.iloc[:, 1:].values.flatten()\n",
    "        workout_text = [f\"{i+6} :  {tip}\" for i, tip in enumerate(workout_list) if tip]\n",
    "    else:\n",
    "        workout_text = [\"No workout recommendations available.\"]\n",
    "\n",
    "    # Fetch Diet Recommendations\n",
    "    diet_row = diets[diets[\"Disease\"] == disease]\n",
    "    diets_text = diet_row[\"Diet\"].values[0] if not diet_row.empty else \"No diet recommendations available.\"\n",
    "\n",
    "    # Print Output in Required Format\n",
    "    output = f\"\"\"\n",
    "=================Predicted Disease============\n",
    "{disease}\n",
    "=================Description==================\n",
    "{description_text}\n",
    "=================Precautions==================\n",
    "{chr(10).join(precautions_text)}\n",
    "=================Medications==================\n",
    "5 :  {medications_text}\n",
    "=================Workout==================\n",
    "{chr(10).join(workout_text)}\n",
    "=================Diets==================\n",
    "16 :  {diets_text}\n",
    "\"\"\"\n",
    "    return output\n",
    "\n",
    "\n",
    "def predict_disease(symptom_input):\n",
    "    \"\"\"\n",
    "    Predicts disease based on symptoms and fetches relevant information.\n",
    "    \"\"\"\n",
    "    input_vector = preprocess_symptoms(symptom_input)\n",
    "\n",
    "    # Predict disease\n",
    "    predicted_class = model.predict(input_vector)[0]\n",
    "    disease = label_encoder.inverse_transform([predicted_class])[0]\n",
    "\n",
    "    # Get detailed information about the disease\n",
    "    return get_disease_info(disease)\n"
   ]
  },
  {
   "cell_type": "code",
   "execution_count": null,
   "id": "4be09d5b",
   "metadata": {},
   "outputs": [],
   "source": [
    "user_input = input(\"Enter symptoms separated by commas (e.g., itching, skin rash): \")\n",
    "result = predict_disease(user_input)\n",
    "print(result)"
   ]
  },
  {
   "cell_type": "code",
   "execution_count": 3,
   "id": "dbc76a56",
   "metadata": {},
   "outputs": [
    {
     "ename": "NameError",
     "evalue": "name 'workout_df' is not defined",
     "output_type": "error",
     "traceback": [
      "\u001b[1;31m---------------------------------------------------------------------\u001b[0m",
      "\u001b[1;31mNameError\u001b[0m                           Traceback (most recent call last)",
      "Cell \u001b[1;32mIn[3], line 1\u001b[0m\n\u001b[1;32m----> 1\u001b[0m \u001b[38;5;28mprint\u001b[39m(\u001b[43mworkout_df\u001b[49m\u001b[38;5;241m.\u001b[39mcolumns)  \u001b[38;5;66;03m# Check the actual column names in the diets DataFrame\u001b[39;00m\n",
      "\u001b[1;31mNameError\u001b[0m: name 'workout_df' is not defined"
     ]
    }
   ],
   "source": [
    "\n",
    "\n",
    "print(workout_df.columns)  # Check the actual column names in the diets DataFrame\n"
   ]
  },
  {
   "cell_type": "code",
   "execution_count": null,
   "id": "c83532f0-4447-4898-9f27-082288df0c60",
   "metadata": {},
   "outputs": [],
   "source": []
  }
 ],
 "metadata": {
  "kernelspec": {
   "display_name": "Python 3 (ipykernel)",
   "language": "python",
   "name": "python3"
  },
  "language_info": {
   "codemirror_mode": {
    "name": "ipython",
    "version": 3
   },
   "file_extension": ".py",
   "mimetype": "text/x-python",
   "name": "python",
   "nbconvert_exporter": "python",
   "pygments_lexer": "ipython3",
   "version": "3.10.7"
  }
 },
 "nbformat": 4,
 "nbformat_minor": 5
}
